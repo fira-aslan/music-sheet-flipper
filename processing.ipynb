{
 "metadata": {
  "language_info": {
   "codemirror_mode": {
    "name": "ipython",
    "version": 3
   },
   "file_extension": ".py",
   "mimetype": "text/x-python",
   "name": "python",
   "nbconvert_exporter": "python",
   "pygments_lexer": "ipython3",
   "version": "3.8.10-final"
  },
  "orig_nbformat": 2,
  "kernelspec": {
   "name": "python3",
   "display_name": "Python 3.8.10 64-bit",
   "metadata": {
    "interpreter": {
     "hash": "767d51c1340bd893661ea55ea3124f6de3c7a262a8b4abca0554b478b1e2ff90"
    }
   }
  }
 },
 "nbformat": 4,
 "nbformat_minor": 2,
 "cells": [
  {
   "cell_type": "code",
   "execution_count": 1,
   "metadata": {
    "tags": []
   },
   "outputs": [
    {
     "output_type": "stream",
     "name": "stdout",
     "text": [
      "Finished.\n[-32768 -32768 -32768 -32768 -32768 -32768 -32768 -32768 -32768 -32768\n -32768 -32768 -32768 -32768 -32768 -32768 -32768 -32768 -32768 -32768\n -32768 -32768 -32768 -32768 -32768 -32768 -32768 -32768 -32768 -32768\n -32768 -32768]\n"
     ]
    }
   ],
   "source": [
    "import pyaudio\n",
    "import numpy as np\n",
    "\n",
    "CHUNK = 2**5\n",
    "RATE = 44100\n",
    "\n",
    "p = pyaudio.PyAudio()\n",
    "\n",
    "stream = p.open(format=pyaudio.paInt16, channels=1, rate=RATE, input=True, frames_per_buffer=CHUNK)\n",
    "player = p.open(format=pyaudio.paInt16, channels=1, rate=RATE, output=True, frames_per_buffer=CHUNK)\n",
    "\n",
    "while True:\n",
    "    try:\n",
    "        data = np.fromstring(stream.read(CHUNK),dtype=np.int16)\n",
    "    except KeyboardInterrupt:\n",
    "        print(\"Finished.\")\n",
    "        break\n",
    "\n",
    "stream.stop_stream()\n",
    "stream.close()\n",
    "print(data)\n"
   ]
  },
  {
   "cell_type": "code",
   "execution_count": null,
   "metadata": {},
   "outputs": [],
   "source": [
    "import librosa as lbr\n",
    "\n",
    "output, sr = lbr.load('audiofiles/output.wav')\n",
    "\n",
    "output_fft = np.fft.fft(output)\n"
   ]
  },
  {
   "cell_type": "code",
   "execution_count": 3,
   "metadata": {},
   "outputs": [
    {
     "output_type": "execute_result",
     "data": {
      "text/plain": [
       "(-52.77743844490295+139.60616571163538j)"
      ]
     },
     "metadata": {},
     "execution_count": 3
    }
   ],
   "source": [
    "output_fft[78]"
   ]
  },
  {
   "cell_type": "code",
   "execution_count": 10,
   "metadata": {},
   "outputs": [
    {
     "output_type": "stream",
     "name": "stdout",
     "text": [
      "MetaMessage('time_signature', numerator=4, denominator=4, clocks_per_click=24, notated_32nd_notes_per_beat=8, time=0)\nMetaMessage('key_signature', key='C', time=0)\nMetaMessage('set_tempo', tempo=833333, time=0)\ncontrol_change channel=0 control=121 value=0 time=0\nprogram_change channel=0 program=0 time=0\ncontrol_change channel=0 control=7 value=127 time=0\ncontrol_change channel=0 control=10 value=64 time=0\ncontrol_change channel=0 control=91 value=0 time=0\ncontrol_change channel=0 control=93 value=0 time=0\nMetaMessage('midi_port', port=0, time=0)\nnote_on channel=0 note=60 velocity=80 time=0\nnote_on channel=0 note=60 velocity=0 time=455\nnote_on channel=0 note=60 velocity=80 time=25\nnote_on channel=0 note=60 velocity=0 time=455\nnote_on channel=0 note=67 velocity=80 time=25\nnote_on channel=0 note=67 velocity=0 time=455\nnote_on channel=0 note=67 velocity=80 time=25\nnote_on channel=0 note=67 velocity=0 time=455\nnote_on channel=0 note=69 velocity=80 time=25\nnote_on channel=0 note=69 velocity=0 time=455\n"
     ]
    }
   ],
   "source": [
    "import mido\n",
    "mid = mido.MidiFile('audiofiles/Twinkle_Twinkle_Little_Star_Easy.mid', clip=True)\n",
    "mid.tracks\n",
    "\n",
    "for m in mid.tracks[0][:20]:\n",
    "    print(m)"
   ]
  },
  {
   "cell_type": "code",
   "execution_count": null,
   "metadata": {},
   "outputs": [],
   "source": []
  }
 ]
}