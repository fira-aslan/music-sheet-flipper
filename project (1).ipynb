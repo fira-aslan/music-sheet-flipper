{
 "cells": [
  {
   "cell_type": "code",
   "execution_count": 1,
   "id": "7b06f3ce",
   "metadata": {},
   "outputs": [
    {
     "name": "stderr",
     "output_type": "stream",
     "text": [
      "/usr/lib/python3/dist-packages/requests/__init__.py:89: RequestsDependencyWarning: urllib3 (1.26.12) or chardet (3.0.4) doesn't match a supported version!\n",
      "  warnings.warn(\"urllib3 ({}) or chardet ({}) doesn't match a supported \"\n"
     ]
    },
    {
     "name": "stdout",
     "output_type": "stream",
     "text": [
      "C4\n",
      "E3\n",
      "C4\n",
      "E3\n",
      "G4\n",
      "E3\n",
      "G4\n",
      "E3\n",
      "A4\n",
      "F3\n",
      "A4\n",
      "F3\n",
      "G4\n",
      "E3\n",
      "F4\n",
      "D3\n",
      "F4\n",
      "D3\n",
      "E4\n",
      "C3\n",
      "E4\n",
      "C3\n",
      "D4\n",
      "B2\n",
      "D4\n",
      "B2\n",
      "C4\n",
      "C3\n",
      "G4\n",
      "E3\n",
      "G4\n",
      "E3\n",
      "F4\n",
      "D3\n",
      "F4\n",
      "D3\n",
      "E4\n",
      "C3\n",
      "E4\n",
      "C3\n",
      "D4\n",
      "B2\n",
      "G4\n",
      "E3\n",
      "G4\n",
      "E3\n",
      "F4\n",
      "D3\n",
      "F4\n",
      "D3\n",
      "E4\n",
      "C3\n",
      "E4\n",
      "C3\n",
      "D4\n",
      "G2\n",
      "C4\n",
      "E3\n",
      "C4\n",
      "E3\n",
      "G4\n",
      "E3\n",
      "G4\n",
      "E3\n",
      "A4\n",
      "F3\n",
      "G3\n",
      "A4\n",
      "A3\n",
      "B3\n",
      "G4\n",
      "C4\n",
      "F4\n",
      "D3\n",
      "F4\n",
      "A3\n",
      "E4\n",
      "G3\n",
      "E4\n",
      "C3\n",
      "D4\n",
      "G3\n",
      "D4\n",
      "G2\n",
      "C4\n",
      "C3\n"
     ]
    }
   ],
   "source": [
    "import music21\n",
    "import os\n",
    "\n",
    "us = music21.environment.Environment()\n",
    "us['musicxmlPath'] = os.path.abspath('/usr/bin/musescore3')\n",
    "us['musescoreDirectPNGPath'] = os.path.abspath('/usr/bin/musescore3')\n",
    "\n",
    "# Load the MIDI file\n",
    "midi_file = music21.converter.parse('Twinkle_Twinkle_Little_Star_Easy.mid')\n",
    "\n",
    "# Convert the MIDI file into notes and chords\n",
    "notes = []\n",
    "for element in midi_file.flat.notesAndRests:\n",
    "    if isinstance(element, music21.note.Note):\n",
    "        notes.append(element)\n",
    "    elif isinstance(element, music21.chord.Chord):\n",
    "        for note in element:\n",
    "            notes.append(note)\n",
    "            \n",
    "# Display the notes\n",
    "for note in notes:\n",
    "    print(note.pitch)"
   ]
  },
  {
   "cell_type": "code",
   "execution_count": 35,
   "id": "8ba59d19",
   "metadata": {},
   "outputs": [],
   "source": [
    "# from music21 import environment\n",
    "# us = music21.environment.UserSettings()\n",
    "# us['musicxmlPath'] = 'MuseScore-4.0.1.230121751-x86_64.AppImage'\n",
    "# us['musescoreDirectPNGPath'] = 'MuseScore-4.0.1.230121751-x86_64.AppImage'"
   ]
  },
  {
   "cell_type": "code",
   "execution_count": 2,
   "id": "f9a1b979",
   "metadata": {
    "scrolled": true
   },
   "outputs": [],
   "source": [
    "# Create a stream to hold the notes\n",
    "stream = music21.stream.Stream()\n",
    "\n",
    "# Load the notes into the stream\n",
    "for note in notes:\n",
    "    n = music21.note.Note(note.pitch, duration=note.duration)\n",
    "    stream.append(n)\n",
    "\n",
    "# Show the sheet music\n",
    "stream.show('musicxml')"
   ]
  },
  {
   "cell_type": "code",
   "execution_count": null,
   "id": "1eb76aef",
   "metadata": {},
   "outputs": [],
   "source": []
  }
 ],
 "metadata": {
  "kernelspec": {
   "display_name": "Python 3 (ipykernel)",
   "language": "python",
   "name": "python3"
  },
  "language_info": {
   "codemirror_mode": {
    "name": "ipython",
    "version": 3
   },
   "file_extension": ".py",
   "mimetype": "text/x-python",
   "name": "python",
   "nbconvert_exporter": "python",
   "pygments_lexer": "ipython3",
   "version": "3.8.10"
  }
 },
 "nbformat": 4,
 "nbformat_minor": 5
}