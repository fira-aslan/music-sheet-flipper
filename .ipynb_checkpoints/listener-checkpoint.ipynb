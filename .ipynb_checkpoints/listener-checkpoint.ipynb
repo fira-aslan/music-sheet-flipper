{
 "cells": [
  {
   "cell_type": "code",
   "execution_count": null,
   "metadata": {},
   "outputs": [],
   "source": [
    "import music21\n",
    "import midiutil\n",
    "\n",
    "# Load the MIDI file\n",
    "midi_file = music21.converter.parse('midi_files/twinkle_easy.mid')\n",
    "\n",
    "# Convert the MIDI file into notes and chords\n",
    "notes = []\n",
    "for element in midi_file.flat.notesAndRests:\n",
    "    if isinstance(element, music21.note.Note):\n",
    "        notes.append(element)\n",
    "    elif isinstance(element, music21.chord.Chord):\n",
    "        for note in element:\n",
    "            notes.append(note)\n",
    "\n",
    "# print(len(notes))\n",
    "# Display the notes\n",
    "for note in notes:\n",
    "    print((music21.pitch.Pitch(note.pitch)).midi)"
   ]
  },
  {
   "cell_type": "code",
   "execution_count": null,
   "metadata": {},
   "outputs": [],
   "source": [
    "import music21\n",
    "import midiutil"
   ]
  },
  {
   "cell_type": "code",
   "execution_count": null,
   "metadata": {},
   "outputs": [],
   "source": [
    "import numpy as np"
   ]
  },
  {
   "cell_type": "code",
   "execution_count": null,
   "metadata": {},
   "outputs": [],
   "source": []
  }
 ],
 "metadata": {
  "kernelspec": {
   "display_name": "Python 3 (ipykernel)",
   "language": "python",
   "name": "python3"
  },
  "language_info": {
   "codemirror_mode": {
    "name": "ipython",
    "version": 3
   },
   "file_extension": ".py",
   "mimetype": "text/x-python",
   "name": "python",
   "nbconvert_exporter": "python",
   "pygments_lexer": "ipython3",
   "version": "3.8.10"
  }
 },
 "nbformat": 4,
 "nbformat_minor": 2
}
