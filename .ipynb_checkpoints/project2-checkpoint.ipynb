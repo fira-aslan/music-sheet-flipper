{
 "cells": [
  {
   "cell_type": "code",
   "execution_count": 21,
   "id": "7a423138",
   "metadata": {},
   "outputs": [
    {
     "name": "stdout",
     "output_type": "stream",
     "text": [
      "There are 100 notes in this musical piece\n"
     ]
    }
   ],
   "source": [
    "import music21\n",
    "import midiutil\n",
    "\n",
    "# Load the MIDI file\n",
    "midi_file = music21.converter.parse('midi_files/twinkle_easy.mid')\n",
    "\n",
    "# Convert the MIDI file into notes and chords\n",
    "notes = []\n",
    "for element in midi_file.flat.notesAndRests:\n",
    "    if isinstance(element, music21.note.Note):\n",
    "        notes.append(element)\n",
    "    elif isinstance(element, music21.chord.Chord):\n",
    "        for note in element:\n",
    "            notes.append(note)\n",
    "\n",
    "print(\"There are {} notes in this musical piece\".format(len(notes)))\n",
    "midi_numbers = []\n",
    "midi_dict = {}\n",
    "\n",
    "# Display the notes\n",
    "for note in notes:\n",
    "    item = music21.pitch.Pitch(note.pitch).midi\n",
    "    midi_numbers.append(item)\n",
    "    if item in midi_dict:\n",
    "        midi_dict[item] += 1\n",
    "    else:\n",
    "        midi_dict[item] = 1"
   ]
  },
  {
   "cell_type": "code",
   "execution_count": 26,
   "id": "18e93d61",
   "metadata": {},
   "outputs": [
    {
     "name": "stdout",
     "output_type": "stream",
     "text": [
      "*** Recording has started - Keep quiet and only play the instrument ***\n",
      "77 / 0.0\n",
      "78 / 0.0\n",
      "77 / 0.0\n",
      "78 / 0.0\n",
      "77 / 0.0\n",
      "78 / 0.0\n",
      "77 / 0.0\n",
      "80 / 0.0\n",
      "79 / 0.0\n",
      "78 / 0.0\n",
      "*** Ctrl+C pressed ***\n",
      "*** Recording has ended ***\n"
     ]
    }
   ],
   "source": [
    "# We use pyaudio to open the microphone and run aubio.pitch on the stream of\n",
    "# incoming samples. The script will run until KeyboardInterruptCtrl+C is pressed.\n",
    "\n",
    "import pyaudio\n",
    "import sys\n",
    "import numpy as np\n",
    "import aubio\n",
    "\n",
    "# Initialize pyaudio\n",
    "p = pyaudio.PyAudio()\n",
    "\n",
    "# Open stream\n",
    "buffer_size = 1024\n",
    "pyaudio_format = pyaudio.paFloat32\n",
    "n_channels = 1\n",
    "samplerate = 44100\n",
    "stream = p.open(format=pyaudio_format,\n",
    "                channels=n_channels,\n",
    "                rate=samplerate,\n",
    "                input=True,\n",
    "                frames_per_buffer=buffer_size)\n",
    "\n",
    "if len(sys.argv) > 1:\n",
    "    # record 5 seconds\n",
    "    output_filename = sys.argv[1]\n",
    "    record_duration = 5 # exit 1\n",
    "    outputsink = aubio.sink(sys.argv[1], samplerate)\n",
    "    total_frames = 0\n",
    "else:\n",
    "    # run forever\n",
    "    outputsink = None\n",
    "    record_duration = None\n",
    "\n",
    "# Setup pitch\n",
    "tolerance = 0.8\n",
    "win_s = 4096 # fft size\n",
    "hop_s = buffer_size # hop size\n",
    "pitch_o = aubio.pitch(\"default\", win_s, hop_s, samplerate)\n",
    "pitch_o.set_unit(\"midi\")\n",
    "pitch_o.set_tolerance(tolerance)\n",
    "temp = -1\n",
    "\n",
    "print(\"*** Recording has started - Keep quiet and only play the instrument ***\")\n",
    "while True:\n",
    "    try:\n",
    "        audiobuffer = stream.read(buffer_size)\n",
    "        signal = np.frombuffer(audiobuffer, dtype=np.float32)\n",
    "\n",
    "        pitch = pitch_o(signal)[0]\n",
    "        confidence = pitch_o.get_confidence()\n",
    "        pitch = round(pitch)\n",
    "        if(temp==pitch):\n",
    "            continue\n",
    "\n",
    "        if(pitch>60):\n",
    "            print(\"{} / {}\".format(pitch,confidence))\n",
    "            temp = pitch\n",
    "        if outputsink:\n",
    "            outputsink(signal, len(signal))\n",
    "\n",
    "    except KeyboardInterrupt:\n",
    "        print(\"*** Ctrl+C pressed ***\")\n",
    "        break\n",
    "\n",
    "print(\"*** Recording has ended ***\")\n",
    "stream.stop_stream()\n",
    "stream.close()\n",
    "p.terminate()"
   ]
  },
  {
   "cell_type": "code",
   "execution_count": 25,
   "id": "a31fb647",
   "metadata": {},
   "outputs": [
    {
     "data": {
      "application/javascript": [
       "IPython.notebook.set_autosave_interval(0)"
      ]
     },
     "metadata": {},
     "output_type": "display_data"
    },
    {
     "name": "stdout",
     "output_type": "stream",
     "text": [
      "Autosave disabled\n"
     ]
    }
   ],
   "source": [
    "%autosave 0"
   ]
  },
  {
   "cell_type": "code",
   "execution_count": null,
   "id": "f3095d93",
   "metadata": {},
   "outputs": [],
   "source": []
  }
 ],
 "metadata": {
  "kernelspec": {
   "display_name": "Python 3 (ipykernel)",
   "language": "python",
   "name": "python3"
  },
  "language_info": {
   "codemirror_mode": {
    "name": "ipython",
    "version": 3
   },
   "file_extension": ".py",
   "mimetype": "text/x-python",
   "name": "python",
   "nbconvert_exporter": "python",
   "pygments_lexer": "ipython3",
   "version": "3.8.10"
  }
 },
 "nbformat": 4,
 "nbformat_minor": 5
}
